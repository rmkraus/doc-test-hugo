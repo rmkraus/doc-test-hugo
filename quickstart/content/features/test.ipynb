{
  "cells": [
    {
      "cell_type": "markdown",
      "metadata": {
        "vscode": {
          "languageId": "raw"
        }
      },
      "source": [
        "# Test Jupyter Notebook\n",
        "\n",
        "This is a sample Jupyter notebook to demonstrate the integration with Hugo.\n"
      ]
    },
    {
      "cell_type": "code",
      "execution_count": null,
      "metadata": {},
      "outputs": [],
      "source": [
        "print(\"Hello, world!\")\n"
      ]
    },
    {
      "cell_type": "code",
      "execution_count": null,
      "metadata": {},
      "outputs": [],
      "source": [
        "# Simple calculation\n",
        "x = 20\n",
        "y = 22\n",
        "result = x + y\n",
        "print(f\"The result is: {result}\")\n"
      ]
    }
  ],
  "metadata": {
    "language_info": {
      "name": "python"
    }
  },
  "nbformat": 4,
  "nbformat_minor": 2
}
